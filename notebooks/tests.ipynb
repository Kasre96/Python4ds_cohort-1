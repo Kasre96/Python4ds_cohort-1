{
 "cells": [
  {
   "cell_type": "markdown",
   "metadata": {},
   "source": [
    "# Testing of Miscellaneous code"
   ]
  },
  {
   "cell_type": "code",
   "execution_count": 7,
   "metadata": {},
   "outputs": [],
   "source": [
    "# Numpy version\n",
    "import numpy as np\n",
    "np.__version__\n",
    "\n",
    "# numpy namespace and docs\n",
    "np.random.randint?"
   ]
  },
  {
   "cell_type": "markdown",
   "metadata": {},
   "source": [
    "## Python arrays"
   ]
  },
  {
   "cell_type": "code",
   "execution_count": 3,
   "metadata": {},
   "outputs": [
    {
     "data": {
      "text/plain": [
       "array('i', [0, 1, 2, 3, 4, 5, 6, 7, 8, 9])"
      ]
     },
     "execution_count": 3,
     "metadata": {},
     "output_type": "execute_result"
    }
   ],
   "source": [
    "import array\n",
    "\n",
    "# create a list of 10 items\n",
    "my_list = list(range(10))\n",
    "\n",
    "# Create an array\n",
    "# The 'i' is a type code indicating all the contents are integers\n",
    "my_array = array.array('i', my_list)\n",
    "my_array"
   ]
  },
  {
   "cell_type": "code",
   "execution_count": 5,
   "metadata": {},
   "outputs": [
    {
     "name": "stdout",
     "output_type": "stream",
     "text": [
      "[[[1 1 4 1 2]\n",
      "  [9 2 1 6 0]\n",
      "  [5 6 9 9 2]\n",
      "  [7 4 4 0 5]]\n",
      "\n",
      " [[3 1 0 6 3]\n",
      "  [5 3 5 6 5]\n",
      "  [8 9 5 4 1]\n",
      "  [6 6 2 7 9]]\n",
      "\n",
      " [[2 8 0 1 8]\n",
      "  [1 5 9 1 7]\n",
      "  [5 9 6 7 5]\n",
      "  [6 3 9 3 0]]]\n"
     ]
    },
    {
     "data": {
      "text/plain": [
       "array([0, 6, 7, 6, 8, 1])"
      ]
     },
     "execution_count": 5,
     "metadata": {},
     "output_type": "execute_result"
    }
   ],
   "source": [
    "print(np.random.randint(10, size=(3, 4, 5)))\n",
    "x1 = np.random.randint(10, size=6)\n",
    "x1"
   ]
  }
 ],
 "metadata": {
  "kernelspec": {
   "display_name": "Python 3",
   "language": "python",
   "name": "python3"
  },
  "language_info": {
   "codemirror_mode": {
    "name": "ipython",
    "version": 3
   },
   "file_extension": ".py",
   "mimetype": "text/x-python",
   "name": "python",
   "nbconvert_exporter": "python",
   "pygments_lexer": "ipython3",
   "version": "3.7.1"
  }
 },
 "nbformat": 4,
 "nbformat_minor": 2
}
