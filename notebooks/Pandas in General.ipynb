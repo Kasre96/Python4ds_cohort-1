{
 "cells": [
  {
   "cell_type": "markdown",
   "metadata": {},
   "source": [
    "# Pandas\n",
    "Pandas are used together with numpy. They form an extension of the numpy ndarray object.\n",
    "It consists of Series and Dataframe as its key objects"
   ]
  },
  {
   "cell_type": "markdown",
   "metadata": {},
   "source": [
    "## Pandas Series object\n",
    "A 1-D array of indexed data"
   ]
  },
  {
   "cell_type": "code",
   "execution_count": 1,
   "metadata": {},
   "outputs": [],
   "source": [
    "# import the packages\n",
    "import numpy as np\n",
    "import pandas as pd"
   ]
  },
  {
   "cell_type": "code",
   "execution_count": 6,
   "metadata": {},
   "outputs": [
    {
     "name": "stdout",
     "output_type": "stream",
     "text": [
      "data:\n",
      " 0     0.10\n",
      "1     6.35\n",
      "2     7.00\n",
      "3    13.70\n",
      "4     8.00\n",
      "dtype: float64\n",
      "values:  [ 0.1   6.35  7.   13.7   8.  ]\n",
      "indices:  RangeIndex(start=0, stop=5, step=1)\n",
      "data at index 3:  13.7\n"
     ]
    }
   ],
   "source": [
    "# Create a Series from a list or array\n",
    "data = pd.Series([0.1, 6.35, 7.0, 13.7, 8.0])\n",
    "# display the data\n",
    "print(\"data:\\n\", data)\n",
    "\n",
    "# display the values only\n",
    "print(\"values: \", data.values)\n",
    "\n",
    "# display the indices(as a range)\n",
    "print(\"indices: \", data.index)\n",
    "\n",
    "# access a value\n",
    "print(\"data at index 3: \", data[3])"
   ]
  },
  {
   "cell_type": "code",
   "execution_count": 7,
   "metadata": {},
   "outputs": [
    {
     "data": {
      "text/plain": [
       "a    1\n",
       "b    2\n",
       "c    3\n",
       "d    4\n",
       "e    5\n",
       "dtype: int64"
      ]
     },
     "execution_count": 7,
     "metadata": {},
     "output_type": "execute_result"
    }
   ],
   "source": [
    "# Series with custom indices\n",
    "custom_data = pd.Series([1, 2, 3, 4, 5], index=['a', 'b', 'c', 'd', 'e'])\n",
    "custom_data"
   ]
  },
  {
   "cell_type": "code",
   "execution_count": 8,
   "metadata": {},
   "outputs": [
    {
     "data": {
      "text/plain": [
       "kasee     22\n",
       "Ken       27\n",
       "Kashee    19\n",
       "Miro      21\n",
       "Phoebe    20\n",
       "dtype: int64"
      ]
     },
     "execution_count": 8,
     "metadata": {},
     "output_type": "execute_result"
    }
   ],
   "source": [
    "# A series object can also be created from a dictionary. The indices will be the dict keys.\n",
    "ages = {\n",
    "    'kasee': 22,\n",
    "    'Ken': 27,\n",
    "    'Kashee': 19,\n",
    "    'Miro': 21,\n",
    "    'Phoebe': 20\n",
    "}\n",
    "\n",
    "age_data = pd.Series(ages)\n",
    "age_data"
   ]
  },
  {
   "cell_type": "markdown",
   "metadata": {},
   "source": [
    "## The DataFrame Object\n",
    "Can be created from an array or a dict\n",
    "format: pd.DataFrame(data, columns='', index='')"
   ]
  },
  {
   "cell_type": "code",
   "execution_count": 2,
   "metadata": {},
   "outputs": [
    {
     "data": {
      "text/html": [
       "<div>\n",
       "<style scoped>\n",
       "    .dataframe tbody tr th:only-of-type {\n",
       "        vertical-align: middle;\n",
       "    }\n",
       "\n",
       "    .dataframe tbody tr th {\n",
       "        vertical-align: top;\n",
       "    }\n",
       "\n",
       "    .dataframe thead th {\n",
       "        text-align: right;\n",
       "    }\n",
       "</style>\n",
       "<table border=\"1\" class=\"dataframe\">\n",
       "  <thead>\n",
       "    <tr style=\"text-align: right;\">\n",
       "      <th></th>\n",
       "      <th>population</th>\n",
       "      <th>area</th>\n",
       "    </tr>\n",
       "  </thead>\n",
       "  <tbody>\n",
       "    <tr>\n",
       "      <th>Atlanta</th>\n",
       "      <td>7459843</td>\n",
       "      <td>7589347</td>\n",
       "    </tr>\n",
       "    <tr>\n",
       "      <th>Connecticut</th>\n",
       "      <td>124765</td>\n",
       "      <td>759874</td>\n",
       "    </tr>\n",
       "    <tr>\n",
       "      <th>Kansas</th>\n",
       "      <td>124765</td>\n",
       "      <td>985904384</td>\n",
       "    </tr>\n",
       "    <tr>\n",
       "      <th>Seattle</th>\n",
       "      <td>124765</td>\n",
       "      <td>475398475</td>\n",
       "    </tr>\n",
       "    <tr>\n",
       "      <th>Viginia</th>\n",
       "      <td>124765</td>\n",
       "      <td>509438</td>\n",
       "    </tr>\n",
       "  </tbody>\n",
       "</table>\n",
       "</div>"
      ],
      "text/plain": [
       "             population       area\n",
       "Atlanta         7459843    7589347\n",
       "Connecticut      124765     759874\n",
       "Kansas           124765  985904384\n",
       "Seattle          124765  475398475\n",
       "Viginia          124765     509438"
      ]
     },
     "execution_count": 2,
     "metadata": {},
     "output_type": "execute_result"
    }
   ],
   "source": [
    "# States data\n",
    "population = {\n",
    "    'Seattle': 124765,\n",
    "    'Atlanta': 7459843,\n",
    "    'Kansas': 124765,\n",
    "    'Connecticut': 124765,\n",
    "    'Viginia': 124765,\n",
    "}\n",
    "\n",
    "# State areas\n",
    "area = {\n",
    "    'Seattle': 475398475,\n",
    "    'Atlanta': 7589347,\n",
    "    'Kansas': 985904384,\n",
    "    'Connecticut': 759874,\n",
    "    'Viginia': 509438\n",
    "}\n",
    "\n",
    "# create a dataframe\n",
    "states = pd.DataFrame({\n",
    "    'population': population,\n",
    "    'area': area\n",
    "})\n",
    "\n",
    "states"
   ]
  },
  {
   "cell_type": "code",
   "execution_count": 4,
   "metadata": {},
   "outputs": [
    {
     "data": {
      "text/plain": [
       "Atlanta        7459843\n",
       "Connecticut     124765\n",
       "Kansas          124765\n",
       "Seattle         124765\n",
       "Viginia         124765\n",
       "Name: population, dtype: int64"
      ]
     },
     "execution_count": 4,
     "metadata": {},
     "output_type": "execute_result"
    }
   ],
   "source": [
    "# Accessing individual data\n",
    "popn = states['population'] # or states.population\n",
    "popn"
   ]
  },
  {
   "cell_type": "markdown",
   "metadata": {},
   "source": [
    "## Data Indexing and Selection\n",
    "Normal slicing and indexing brings confusion, hence `iloc` and `loc` attribs are used for implicit(normal python list-style) and explicit indexing, respectively"
   ]
  },
  {
   "cell_type": "code",
   "execution_count": 5,
   "metadata": {},
   "outputs": [
    {
     "data": {
      "text/plain": [
       "1    a\n",
       "2    b\n",
       "3    c\n",
       "dtype: object"
      ]
     },
     "execution_count": 5,
     "metadata": {},
     "output_type": "execute_result"
    }
   ],
   "source": [
    "data = pd.Series(['a', 'b', 'c'], index=[1, 2, 3])\n",
    "data"
   ]
  },
  {
   "cell_type": "code",
   "execution_count": 7,
   "metadata": {},
   "outputs": [
    {
     "name": "stdout",
     "output_type": "stream",
     "text": [
      "a\n",
      "2    b\n",
      "3    c\n",
      "dtype: object\n"
     ]
    }
   ],
   "source": [
    "# Trying to access the data locally\n",
    "print(data[1]) # explicit index when indexing\n",
    "print(data[1:3]) # implicit index when slicing"
   ]
  },
  {
   "cell_type": "code",
   "execution_count": 9,
   "metadata": {},
   "outputs": [
    {
     "name": "stdout",
     "output_type": "stream",
     "text": [
      "a\n",
      "1    a\n",
      "2    b\n",
      "3    c\n",
      "dtype: object\n",
      "b\n",
      "2    b\n",
      "3    c\n",
      "dtype: object\n"
     ]
    }
   ],
   "source": [
    "# To solve this, loc and iloc are used\n",
    "# Explicit indexing\n",
    "print(data.loc[1])\n",
    "print(data.loc[1:3])\n",
    "\n",
    "# implicit indexing\n",
    "print(data.iloc[1])\n",
    "print(data.iloc[1:3])"
   ]
  }
 ],
 "metadata": {
  "kernelspec": {
   "display_name": "Python 3",
   "language": "python",
   "name": "python3"
  },
  "language_info": {
   "codemirror_mode": {
    "name": "ipython",
    "version": 3
   },
   "file_extension": ".py",
   "mimetype": "text/x-python",
   "name": "python",
   "nbconvert_exporter": "python",
   "pygments_lexer": "ipython3",
   "version": "3.7.2"
  }
 },
 "nbformat": 4,
 "nbformat_minor": 2
}
